{
 "cells": [
  {
   "cell_type": "markdown",
   "metadata": {},
   "source": [
    "#### Players Off Court Issues"
   ]
  },
  {
   "cell_type": "markdown",
   "metadata": {},
   "source": [
    "Shaquille O'Neal - Focus on the 2007-2008 NBA season, aligning with his divorce filing.\n",
    "Metrics: PPG, RPG, Blocks Per Game (BPG), Field Goal Percentage (FG%).\n",
    "\n",
    "Kobe Bryant - Analyze the 2003-2004 NBA season, corresponding to his legal troubles.\n",
    "Metrics: PPG, APG, RPG, FG%, Free Throw Percentage (FT%).\n",
    "\n",
    "LeBron James\n",
    "For \"The Decision\" (2010), analyze the 2010-2011 season (his first with the Miami Heat).\n",
    "For his return to Cleveland (2014), focus on the 2014-2015 season.\n",
    "Metrics: PPG, APG, RPG, FG%, Three-Point Percentage (3P%).\n",
    "\n",
    "Derrick Rose - Consider the 2016-2017 season, during which he faced a civil lawsuit.\n",
    "Metrics: PPG, APG, RPG, FG%.\n",
    "\n",
    "Dwight Howard - Given the ongoing nature of his off-court issues, you might choose a few seasons for analysis. For example, the 2012-2013 season (his first with the Lakers) and any other season you deem significant.\n",
    "Metrics: PPG, RPG, BPG, FG%.\n",
    "\n",
    "Carmelo Anthony - Similar to Howard, select seasons that might align with his reported relationship issues. One option could be the 2016-2017 season.\n",
    "Metrics: PPG, RPG, APG, FG%.\n",
    "\n",
    "Allen Iverson:\n",
    "Notable Period: The 2000-2001 season, where Iverson faced several personal challenges.\n",
    "Metrics: PPG, APG, Steals Per Game (SPG), FG%.\n",
    "\n",
    "Gilbert Arenas:\n",
    "Notable Period: The 2009-2010 season, corresponding to his suspension.\n",
    "Metrics: PPG, APG, 3P%, FG%.\n",
    "\n",
    "Paul Pierce:\n",
    "Notable Period: The 2000-2001 season following his stabbing incident in 2000.\n",
    "Metrics: PPG, RPG, APG, FG%.\n",
    "\n",
    "Ben Simmons:\n",
    "Notable Period: The 2021-2022 season, marked by his mental health struggles and trade request.\n",
    "Metrics: PPG, RPG, APG, FG%.\n",
    "\n",
    "Kevin Love:\n",
    "Notable Period: The 2018-2019 season, where Love was open about his struggles with mental health.\n",
    "Metrics: PPG, RPG, 3P%, FG%.\n",
    "\n",
    "DeMar DeRozan:\n",
    "Notable Period: The 2018-2019 season, following his trade to the Spurs and his openness about mental health.\n",
    "Metrics: PPG, RPG, APG, FG%."
   ]
  },
  {
   "cell_type": "markdown",
   "metadata": {},
   "source": [
    "#### Fetch Data"
   ]
  },
  {
   "cell_type": "code",
   "execution_count": 1,
   "metadata": {},
   "outputs": [],
   "source": [
    "# Import libraries\n",
    "\n",
    "from nba_api.stats.endpoints import playergamelog\n",
    "from nba_api.stats.static import players\n",
    "import pandas as pd\n",
    "import time"
   ]
  },
  {
   "cell_type": "code",
   "execution_count": 2,
   "metadata": {},
   "outputs": [],
   "source": [
    "players_seasons = {\n",
    "    'Shaquille O\\'Neal': ['2007-08'],\n",
    "    'Kobe Bryant': ['2003-04'],\n",
    "    'LeBron James': ['2010-11', '2014-15'],\n",
    "    'Derrick Rose': ['2016-17'],\n",
    "    'Dwight Howard': ['2012-13'],\n",
    "    'Carmelo Anthony': ['2016-17'],\n",
    "    'Allen Iverson': ['2000-01'],\n",
    "    'Gilbert Arenas': ['2009-10'],\n",
    "    'Paul Pierce': ['2000-01'],\n",
    "    'Ben Simmons': ['2021-22'],\n",
    "    'Kevin Love': ['2018-19'],\n",
    "    'DeMar DeRozan': ['2018-19']\n",
    "}\n"
   ]
  },
  {
   "cell_type": "markdown",
   "metadata": {},
   "source": [
    "Enhancement on the data fetching process\n",
    "\n",
    "Data Validation: Ensure that the data retrieved is complete and accurate by adding check for empty dataFrames, missing values, and verify the data consistency.  \n",
    "Rate Limiting: Introduce a delay between each request to the API"
   ]
  },
  {
   "cell_type": "code",
   "execution_count": 3,
   "metadata": {},
   "outputs": [
    {
     "name": "stdout",
     "output_type": "stream",
     "text": [
      "No data available for Ben Simmons in the 2021-22 season.\n"
     ]
    }
   ],
   "source": [
    "# Dictionary to hold the average stats for each player and season\n",
    "average_stats = {}\n",
    "\n",
    "target_stats = ['PTS', 'AST', 'REB', 'FG_PCT']\n",
    "\n",
    "request_delay = 0.1\n",
    "\n",
    "for name, seasons in players_seasons.items():\n",
    "    player_dict = players.find_players_by_full_name(name)\n",
    "    if player_dict:\n",
    "        player_id = player_dict[0]['id']\n",
    "        for season in seasons:\n",
    "            # Delay each API request\n",
    "            time.sleep(request_delay)\n",
    "            \n",
    "            gamelog = playergamelog.PlayerGameLog(player_id=player_id, season=season)\n",
    "            df = gamelog.get_data_frames()[0]\n",
    "\n",
    "            # Data validation checks\n",
    "            \n",
    "            # Check for Empty DataFrames\n",
    "            if df.empty:\n",
    "                print(f\"No data available for {name} in the {season} season.\")\n",
    "                continue\n",
    "            \n",
    "            # Check for Missing Values\n",
    "            if df[target_stats].isnull().values.any():\n",
    "                print(f\"Missing data for {name} in the {season} season.\")\n",
    "                continue\n",
    "            \n",
    "            # Verify Data Consistency\n",
    "            if not all([pd.api.types.is_numeric_dtype(df[col]) for col in target_stats]):\n",
    "                print(f\"Incorrect data types for {name} in the {season} season.\")\n",
    "                continue\n",
    "\n",
    "            # Calculate average stats\n",
    "            avg_points = df['PTS'].mean()\n",
    "            avg_assists = df['AST'].mean()\n",
    "            avg_rebounds = df['REB'].mean()\n",
    "            avg_fg_pct = df['FG_PCT'].mean()\n",
    "\n",
    "            # Store in the dictionary\n",
    "            average_stats[f'{name} ({season})'] = {\n",
    "                'PPG': avg_points,\n",
    "                'APG': avg_assists,\n",
    "                'RPG': avg_rebounds,\n",
    "                'FG%': avg_fg_pct\n",
    "            }"
   ]
  },
  {
   "cell_type": "markdown",
   "metadata": {},
   "source": [
    "It is reasonable because Ben Simmons did not play a single game in 21-22 season"
   ]
  },
  {
   "cell_type": "code",
   "execution_count": 4,
   "metadata": {},
   "outputs": [
    {
     "name": "stdout",
     "output_type": "stream",
     "text": [
      "{\"Shaquille O'Neal (2007-08)\": {'PPG': 13.639344262295081, 'APG': 1.5245901639344261, 'RPG': 9.081967213114755, 'FG%': 0.609327868852459}, 'Kobe Bryant (2003-04)': {'PPG': 23.953846153846154, 'APG': 5.076923076923077, 'RPG': 5.523076923076923, 'FG%': 0.42938461538461536}, 'LeBron James (2010-11)': {'PPG': 26.72151898734177, 'APG': 7.012658227848101, 'RPG': 7.468354430379747, 'FG%': 0.5075189873417721}, 'LeBron James (2014-15)': {'PPG': 25.26086956521739, 'APG': 7.405797101449275, 'RPG': 6.028985507246377, 'FG%': 0.48591304347826075}, 'Derrick Rose (2016-17)': {'PPG': 18.03125, 'APG': 4.421875, 'RPG': 3.84375, 'FG%': 0.463984375}, 'Dwight Howard (2012-13)': {'PPG': 17.05263157894737, 'APG': 1.4210526315789473, 'RPG': 12.43421052631579, 'FG%': 0.563407894736842}, 'Carmelo Anthony (2016-17)': {'PPG': 22.41891891891892, 'APG': 2.8783783783783785, 'RPG': 5.918918918918919, 'FG%': 0.4342297297297298}, 'Allen Iverson (2000-01)': {'PPG': 31.08450704225352, 'APG': 4.577464788732394, 'RPG': 3.8450704225352115, 'FG%': 0.4128450704225352}, 'Gilbert Arenas (2009-10)': {'PPG': 22.5625, 'APG': 7.1875, 'RPG': 4.15625, 'FG%': 0.412125}, 'Paul Pierce (2000-01)': {'PPG': 25.25609756097561, 'APG': 3.0853658536585367, 'RPG': 6.365853658536586, 'FG%': 0.4525243902439025}, 'Kevin Love (2018-19)': {'PPG': 17.0, 'APG': 2.1818181818181817, 'RPG': 10.863636363636363, 'FG%': 0.38322727272727275}, 'DeMar DeRozan (2018-19)': {'PPG': 21.233766233766232, 'APG': 6.1688311688311686, 'RPG': 6.0, 'FG%': 0.4834285714285715}}\n"
     ]
    }
   ],
   "source": [
    "print(average_stats)"
   ]
  }
 ],
 "metadata": {
  "kernelspec": {
   "display_name": "nba",
   "language": "python",
   "name": "python3"
  },
  "language_info": {
   "codemirror_mode": {
    "name": "ipython",
    "version": 3
   },
   "file_extension": ".py",
   "mimetype": "text/x-python",
   "name": "python",
   "nbconvert_exporter": "python",
   "pygments_lexer": "ipython3",
   "version": "3.11.5"
  }
 },
 "nbformat": 4,
 "nbformat_minor": 2
}
