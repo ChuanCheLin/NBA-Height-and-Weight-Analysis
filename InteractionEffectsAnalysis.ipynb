{
 "cells": [
  {
   "cell_type": "markdown",
   "metadata": {},
   "source": [
    "#### **Hypothesis:** Shorter Players May Not Benefit as Significantly from Higher BMI as Taller Players.\n",
    "\n",
    "The interaction effect between height and weight on player performance is significant, and the impact of having a higher BMI on performance is more pronounced for taller players than for shorter players.\n",
    "\n",
    "#### Understanding the Hypothesis: \n",
    "My hypothesis is: \"Shorter Players May Not Benefit as Significantly from Higher BMI as Taller Players.\" Essentially, this implies that the effect of BMI on a player's performance (measured in points scored) is different depending on the player's height. In statistical terms, this is an interaction hypothesis, where I am investigating whether the impact of one variable (BMI) on an outcome (points scored) changes at different levels of another variable (height)."
   ]
  },
  {
   "cell_type": "markdown",
   "metadata": {},
   "source": [
    "#### Data Processing"
   ]
  },
  {
   "cell_type": "code",
   "execution_count": 1,
   "metadata": {},
   "outputs": [],
   "source": [
    "# Import libraries\n",
    "\n",
    "import pandas as pd\n",
    "import statsmodels.formula.api as smf\n",
    "import numpy as np\n",
    "import matplotlib.pyplot as plt"
   ]
  },
  {
   "cell_type": "code",
   "execution_count": 2,
   "metadata": {},
   "outputs": [
    {
     "data": {
      "text/html": [
       "<div>\n",
       "<style scoped>\n",
       "    .dataframe tbody tr th:only-of-type {\n",
       "        vertical-align: middle;\n",
       "    }\n",
       "\n",
       "    .dataframe tbody tr th {\n",
       "        vertical-align: top;\n",
       "    }\n",
       "\n",
       "    .dataframe thead th {\n",
       "        text-align: right;\n",
       "    }\n",
       "</style>\n",
       "<table border=\"1\" class=\"dataframe\">\n",
       "  <thead>\n",
       "    <tr style=\"text-align: right;\">\n",
       "      <th></th>\n",
       "      <th>player_name</th>\n",
       "      <th>team_abbreviation</th>\n",
       "      <th>age</th>\n",
       "      <th>player_height</th>\n",
       "      <th>player_weight</th>\n",
       "      <th>college</th>\n",
       "      <th>country</th>\n",
       "      <th>draft_year</th>\n",
       "      <th>draft_round</th>\n",
       "      <th>draft_number</th>\n",
       "      <th>...</th>\n",
       "      <th>pts</th>\n",
       "      <th>reb</th>\n",
       "      <th>ast</th>\n",
       "      <th>net_rating</th>\n",
       "      <th>oreb_pct</th>\n",
       "      <th>dreb_pct</th>\n",
       "      <th>usg_pct</th>\n",
       "      <th>ts_pct</th>\n",
       "      <th>ast_pct</th>\n",
       "      <th>season</th>\n",
       "    </tr>\n",
       "  </thead>\n",
       "  <tbody>\n",
       "    <tr>\n",
       "      <th>0</th>\n",
       "      <td>Randy Livingston</td>\n",
       "      <td>HOU</td>\n",
       "      <td>22.0</td>\n",
       "      <td>193.04</td>\n",
       "      <td>94.800728</td>\n",
       "      <td>Louisiana State</td>\n",
       "      <td>USA</td>\n",
       "      <td>1996</td>\n",
       "      <td>2</td>\n",
       "      <td>42</td>\n",
       "      <td>...</td>\n",
       "      <td>3.9</td>\n",
       "      <td>1.5</td>\n",
       "      <td>2.4</td>\n",
       "      <td>0.3</td>\n",
       "      <td>0.042</td>\n",
       "      <td>0.071</td>\n",
       "      <td>0.169</td>\n",
       "      <td>0.487</td>\n",
       "      <td>0.248</td>\n",
       "      <td>1996-97</td>\n",
       "    </tr>\n",
       "    <tr>\n",
       "      <th>1</th>\n",
       "      <td>Gaylon Nickerson</td>\n",
       "      <td>WAS</td>\n",
       "      <td>28.0</td>\n",
       "      <td>190.50</td>\n",
       "      <td>86.182480</td>\n",
       "      <td>Northwestern Oklahoma</td>\n",
       "      <td>USA</td>\n",
       "      <td>1994</td>\n",
       "      <td>2</td>\n",
       "      <td>34</td>\n",
       "      <td>...</td>\n",
       "      <td>3.8</td>\n",
       "      <td>1.3</td>\n",
       "      <td>0.3</td>\n",
       "      <td>8.9</td>\n",
       "      <td>0.030</td>\n",
       "      <td>0.111</td>\n",
       "      <td>0.174</td>\n",
       "      <td>0.497</td>\n",
       "      <td>0.043</td>\n",
       "      <td>1996-97</td>\n",
       "    </tr>\n",
       "    <tr>\n",
       "      <th>2</th>\n",
       "      <td>George Lynch</td>\n",
       "      <td>VAN</td>\n",
       "      <td>26.0</td>\n",
       "      <td>203.20</td>\n",
       "      <td>103.418976</td>\n",
       "      <td>North Carolina</td>\n",
       "      <td>USA</td>\n",
       "      <td>1993</td>\n",
       "      <td>1</td>\n",
       "      <td>12</td>\n",
       "      <td>...</td>\n",
       "      <td>8.3</td>\n",
       "      <td>6.4</td>\n",
       "      <td>1.9</td>\n",
       "      <td>-8.2</td>\n",
       "      <td>0.106</td>\n",
       "      <td>0.185</td>\n",
       "      <td>0.175</td>\n",
       "      <td>0.512</td>\n",
       "      <td>0.125</td>\n",
       "      <td>1996-97</td>\n",
       "    </tr>\n",
       "    <tr>\n",
       "      <th>3</th>\n",
       "      <td>George McCloud</td>\n",
       "      <td>LAL</td>\n",
       "      <td>30.0</td>\n",
       "      <td>203.20</td>\n",
       "      <td>102.058200</td>\n",
       "      <td>Florida State</td>\n",
       "      <td>USA</td>\n",
       "      <td>1989</td>\n",
       "      <td>1</td>\n",
       "      <td>7</td>\n",
       "      <td>...</td>\n",
       "      <td>10.2</td>\n",
       "      <td>2.8</td>\n",
       "      <td>1.7</td>\n",
       "      <td>-2.7</td>\n",
       "      <td>0.027</td>\n",
       "      <td>0.111</td>\n",
       "      <td>0.206</td>\n",
       "      <td>0.527</td>\n",
       "      <td>0.125</td>\n",
       "      <td>1996-97</td>\n",
       "    </tr>\n",
       "    <tr>\n",
       "      <th>4</th>\n",
       "      <td>George Zidek</td>\n",
       "      <td>DEN</td>\n",
       "      <td>23.0</td>\n",
       "      <td>213.36</td>\n",
       "      <td>119.748288</td>\n",
       "      <td>UCLA</td>\n",
       "      <td>USA</td>\n",
       "      <td>1995</td>\n",
       "      <td>1</td>\n",
       "      <td>22</td>\n",
       "      <td>...</td>\n",
       "      <td>2.8</td>\n",
       "      <td>1.7</td>\n",
       "      <td>0.3</td>\n",
       "      <td>-14.1</td>\n",
       "      <td>0.102</td>\n",
       "      <td>0.169</td>\n",
       "      <td>0.195</td>\n",
       "      <td>0.500</td>\n",
       "      <td>0.064</td>\n",
       "      <td>1996-97</td>\n",
       "    </tr>\n",
       "  </tbody>\n",
       "</table>\n",
       "<p>5 rows × 21 columns</p>\n",
       "</div>"
      ],
      "text/plain": [
       "        player_name team_abbreviation   age  player_height  player_weight  \\\n",
       "0  Randy Livingston               HOU  22.0         193.04      94.800728   \n",
       "1  Gaylon Nickerson               WAS  28.0         190.50      86.182480   \n",
       "2      George Lynch               VAN  26.0         203.20     103.418976   \n",
       "3    George McCloud               LAL  30.0         203.20     102.058200   \n",
       "4      George Zidek               DEN  23.0         213.36     119.748288   \n",
       "\n",
       "                 college country draft_year draft_round draft_number  ...  \\\n",
       "0        Louisiana State     USA       1996           2           42  ...   \n",
       "1  Northwestern Oklahoma     USA       1994           2           34  ...   \n",
       "2         North Carolina     USA       1993           1           12  ...   \n",
       "3          Florida State     USA       1989           1            7  ...   \n",
       "4                   UCLA     USA       1995           1           22  ...   \n",
       "\n",
       "    pts  reb  ast  net_rating  oreb_pct  dreb_pct  usg_pct  ts_pct  ast_pct  \\\n",
       "0   3.9  1.5  2.4         0.3     0.042     0.071    0.169   0.487    0.248   \n",
       "1   3.8  1.3  0.3         8.9     0.030     0.111    0.174   0.497    0.043   \n",
       "2   8.3  6.4  1.9        -8.2     0.106     0.185    0.175   0.512    0.125   \n",
       "3  10.2  2.8  1.7        -2.7     0.027     0.111    0.206   0.527    0.125   \n",
       "4   2.8  1.7  0.3       -14.1     0.102     0.169    0.195   0.500    0.064   \n",
       "\n",
       "    season  \n",
       "0  1996-97  \n",
       "1  1996-97  \n",
       "2  1996-97  \n",
       "3  1996-97  \n",
       "4  1996-97  \n",
       "\n",
       "[5 rows x 21 columns]"
      ]
     },
     "execution_count": 2,
     "metadata": {},
     "output_type": "execute_result"
    }
   ],
   "source": [
    "# Import the data as a DataFrame and check first 5 rows\n",
    "\n",
    "df = pd.read_csv('ExsitingDatasets/all_seasons.csv', index_col=0)\n",
    "country_codes = pd.read_csv(\"ExsitingDatasets/country_code.csv\", index_col=0)\n",
    "\n",
    "df.head()"
   ]
  },
  {
   "cell_type": "code",
   "execution_count": 3,
   "metadata": {},
   "outputs": [],
   "source": [
    "# Add BMI value\n",
    "df['bmi'] = df['player_weight'].values / (df['player_height'].values ** 2) * 10000"
   ]
  },
  {
   "cell_type": "code",
   "execution_count": 4,
   "metadata": {},
   "outputs": [
    {
     "name": "stdout",
     "output_type": "stream",
     "text": [
      "<class 'pandas.core.frame.DataFrame'>\n",
      "Index: 12844 entries, 0 to 12843\n",
      "Data columns (total 22 columns):\n",
      " #   Column             Non-Null Count  Dtype  \n",
      "---  ------             --------------  -----  \n",
      " 0   player_name        12844 non-null  object \n",
      " 1   team_abbreviation  12844 non-null  object \n",
      " 2   age                12844 non-null  float64\n",
      " 3   player_height      12844 non-null  float64\n",
      " 4   player_weight      12844 non-null  float64\n",
      " 5   college            10990 non-null  object \n",
      " 6   country            12844 non-null  object \n",
      " 7   draft_year         12844 non-null  object \n",
      " 8   draft_round        12844 non-null  object \n",
      " 9   draft_number       12844 non-null  object \n",
      " 10  gp                 12844 non-null  int64  \n",
      " 11  pts                12844 non-null  float64\n",
      " 12  reb                12844 non-null  float64\n",
      " 13  ast                12844 non-null  float64\n",
      " 14  net_rating         12844 non-null  float64\n",
      " 15  oreb_pct           12844 non-null  float64\n",
      " 16  dreb_pct           12844 non-null  float64\n",
      " 17  usg_pct            12844 non-null  float64\n",
      " 18  ts_pct             12844 non-null  float64\n",
      " 19  ast_pct            12844 non-null  float64\n",
      " 20  season             12844 non-null  object \n",
      " 21  bmi                12844 non-null  float64\n",
      "dtypes: float64(13), int64(1), object(8)\n",
      "memory usage: 2.3+ MB\n"
     ]
    }
   ],
   "source": [
    "df.info()"
   ]
  },
  {
   "cell_type": "markdown",
   "metadata": {},
   "source": [
    "## Interaction Test"
   ]
  },
  {
   "cell_type": "markdown",
   "metadata": {},
   "source": [
    "### Using pts as dependent variable"
   ]
  },
  {
   "cell_type": "code",
   "execution_count": 5,
   "metadata": {},
   "outputs": [
    {
     "name": "stdout",
     "output_type": "stream",
     "text": [
      "                            OLS Regression Results                            \n",
      "==============================================================================\n",
      "Dep. Variable:                    pts   R-squared:                       0.004\n",
      "Model:                            OLS   Adj. R-squared:                  0.004\n",
      "Method:                 Least Squares   F-statistic:                     18.96\n",
      "Date:                Mon, 27 Nov 2023   Prob (F-statistic):           2.91e-12\n",
      "Time:                        17:22:51   Log-Likelihood:                -41245.\n",
      "No. Observations:               12844   AIC:                         8.250e+04\n",
      "Df Residuals:                   12840   BIC:                         8.253e+04\n",
      "Df Model:                           3                                         \n",
      "Covariance Type:            nonrobust                                         \n",
      "==========================================================================================\n",
      "                             coef    std err          t      P>|t|      [0.025      0.975]\n",
      "------------------------------------------------------------------------------------------\n",
      "Intercept                 18.4224     17.322      1.064      0.288     -15.532      52.377\n",
      "player_height             -0.0666      0.086     -0.776      0.438      -0.235       0.102\n",
      "bmi                       -0.0828      0.700     -0.118      0.906      -1.455       1.289\n",
      "height_bmi_interaction     0.0010      0.003      0.301      0.763      -0.006       0.008\n",
      "==============================================================================\n",
      "Omnibus:                     1919.424   Durbin-Watson:                   1.978\n",
      "Prob(Omnibus):                  0.000   Jarque-Bera (JB):             2921.365\n",
      "Skew:                           1.083   Prob(JB):                         0.00\n",
      "Kurtosis:                       3.874   Cond. No.                     1.64e+06\n",
      "==============================================================================\n",
      "\n",
      "Notes:\n",
      "[1] Standard Errors assume that the covariance matrix of the errors is correctly specified.\n",
      "[2] The condition number is large, 1.64e+06. This might indicate that there are\n",
      "strong multicollinearity or other numerical problems.\n"
     ]
    }
   ],
   "source": [
    "df['height_bmi_interaction'] = df['player_height'] * df['bmi']\n",
    "\n",
    "# Building a regression model with the height-BMI interaction term\n",
    "# Replace 'pts' with your chosen performance metric\n",
    "model = smf.ols('pts ~ player_height + bmi + height_bmi_interaction', data=df).fit()\n",
    "\n",
    "# Summary of the model\n",
    "model_summary = model.summary()\n",
    "print(model_summary)"
   ]
  },
  {
   "cell_type": "markdown",
   "metadata": {},
   "source": [
    "#### Coefficient Analysis:\n",
    "\n",
    "The coefficients for player_height, bmi, and the height_bmi_interaction are not statistically significant (p > 0.05).\n",
    "This suggests that neither height, BMI, nor their interaction has a significant impact on points scored in this model."
   ]
  },
  {
   "cell_type": "markdown",
   "metadata": {},
   "source": [
    "#### Conclusions:\n",
    "Given the high p-value, we do not have sufficient evidence to conclude that the relationship between BMI and points scored varies significantly between players of different heights, based on this dataset and model. This doesn't necessarily mean that there is no interaction effect at all, but rather that, with the data and model used, such an effect is not statistically discernible."
   ]
  },
  {
   "cell_type": "markdown",
   "metadata": {},
   "source": [
    "### Using reb as dependent variable"
   ]
  },
  {
   "cell_type": "code",
   "execution_count": 6,
   "metadata": {},
   "outputs": [
    {
     "name": "stdout",
     "output_type": "stream",
     "text": [
      "                            OLS Regression Results                            \n",
      "==============================================================================\n",
      "Dep. Variable:                    reb   R-squared:                       0.205\n",
      "Model:                            OLS   Adj. R-squared:                  0.204\n",
      "Method:                 Least Squares   F-statistic:                     1101.\n",
      "Date:                Mon, 27 Nov 2023   Prob (F-statistic):               0.00\n",
      "Time:                        17:22:51   Log-Likelihood:                -28409.\n",
      "No. Observations:               12844   AIC:                         5.683e+04\n",
      "Df Residuals:                   12840   BIC:                         5.686e+04\n",
      "Df Model:                           3                                         \n",
      "Covariance Type:            nonrobust                                         \n",
      "==========================================================================================\n",
      "                             coef    std err          t      P>|t|      [0.025      0.975]\n",
      "------------------------------------------------------------------------------------------\n",
      "Intercept                  5.5810      6.377      0.875      0.381      -6.918      18.080\n",
      "player_height             -0.0364      0.032     -1.153      0.249      -0.098       0.026\n",
      "bmi                       -0.9600      0.258     -3.726      0.000      -1.465      -0.455\n",
      "height_bmi_interaction     0.0058      0.001      4.582      0.000       0.003       0.008\n",
      "==============================================================================\n",
      "Omnibus:                     1655.018   Durbin-Watson:                   1.972\n",
      "Prob(Omnibus):                  0.000   Jarque-Bera (JB):             2878.621\n",
      "Skew:                           0.863   Prob(JB):                         0.00\n",
      "Kurtosis:                       4.549   Cond. No.                     1.64e+06\n",
      "==============================================================================\n",
      "\n",
      "Notes:\n",
      "[1] Standard Errors assume that the covariance matrix of the errors is correctly specified.\n",
      "[2] The condition number is large, 1.64e+06. This might indicate that there are\n",
      "strong multicollinearity or other numerical problems.\n"
     ]
    }
   ],
   "source": [
    "df['height_bmi_interaction'] = df['player_height'] * df['bmi']\n",
    "\n",
    "# Building a regression model with the height-BMI interaction term\n",
    "# Replace 'pts' with your chosen performance metric\n",
    "model = smf.ols('reb ~ player_height + bmi + height_bmi_interaction', data=df).fit()\n",
    "\n",
    "# Summary of the model\n",
    "model_summary = model.summary()\n",
    "print(model_summary)"
   ]
  },
  {
   "cell_type": "markdown",
   "metadata": {},
   "source": [
    "#### Coefficient Analysis:\n",
    "\n",
    "The coefficient for bmi is significant (p < 0.05) and negative, indicating that an increase in BMI is associated with a decrease in rebounds, all else being equal.\n",
    "The height_bmi_interaction term is also significant (p < 0.05) and positive, suggesting that the effect of BMI on rebounds varies with player height."
   ]
  },
  {
   "cell_type": "markdown",
   "metadata": {},
   "source": [
    "#### Hypothesis Testing:\n",
    "The significant and positive interaction term supports the idea that the relationship between BMI and rebounds is different for players of different heights. Specifically, it indicates that taller players may benefit more from a higher BMI in terms of rebounds than shorter players."
   ]
  },
  {
   "cell_type": "markdown",
   "metadata": {},
   "source": [
    "#### Conclusions:\n",
    "The results support the hypothesis in the context of rebounds: the benefit of a higher BMI on rebounding performance appears to vary with player height."
   ]
  },
  {
   "cell_type": "markdown",
   "metadata": {},
   "source": [
    "### Visualization"
   ]
  },
  {
   "cell_type": "code",
   "execution_count": 7,
   "metadata": {},
   "outputs": [
    {
     "data": {
      "image/png": "[encoded data removed]",
      "text/plain": [
       "<Figure size 1000x600 with 2 Axes>"
      ]
     },
     "metadata": {},
     "output_type": "display_data"
    }
   ],
   "source": [
    "# Generate a range of heights and BMIs\n",
    "height_range = np.linspace(df['player_height'].min(), df['player_height'].max(), 100)\n",
    "bmi_range = np.linspace(df['bmi'].min(), df['bmi'].max(), 100)\n",
    "\n",
    "# Create a meshgrid for heights and BMIs\n",
    "H, B = np.meshgrid(height_range, bmi_range)\n",
    "\n",
    "# Predict rebounds using the regression model for each combination of height and BMI\n",
    "# Convert predictions to a NumPy array and then reshape\n",
    "Rebounds = model.predict(exog=dict(player_height=H.ravel(), bmi=B.ravel(), \n",
    "                                   height_bmi_interaction=H.ravel()*B.ravel()))\n",
    "Rebounds = np.array(Rebounds).reshape(H.shape)\n",
    "\n",
    "# Create a contour plot\n",
    "plt.figure(figsize=(10, 6))\n",
    "contour = plt.contourf(H, B, Rebounds, levels=50, cmap='viridis')\n",
    "plt.colorbar(contour)\n",
    "plt.title('Rebounds vs. Height and BMI')\n",
    "plt.xlabel('Player Height (cm)')\n",
    "plt.ylabel('BMI')\n",
    "plt.show()\n"
   ]
  },
  {
   "cell_type": "markdown",
   "metadata": {},
   "source": [
    "#### Visual Insights:\n",
    "\n",
    "The clearest changes in rebounds occur with changes in height, as indicated by the horizontal bands of color.\n",
    "The impact of BMI on rebounds, while present, is more subtle and nuanced, which is highlighted by the vertical gradients of color."
   ]
  }
 ],
 "metadata": {
  "kernelspec": {
   "display_name": "nba",
   "language": "python",
   "name": "python3"
  },
  "language_info": {
   "codemirror_mode": {
    "name": "ipython",
    "version": 3
   },
   "file_extension": ".py",
   "mimetype": "text/x-python",
   "name": "python",
   "nbconvert_exporter": "python",
   "pygments_lexer": "ipython3",
   "version": "3.11.5"
  }
 },
 "nbformat": 4,
 "nbformat_minor": 2
}
