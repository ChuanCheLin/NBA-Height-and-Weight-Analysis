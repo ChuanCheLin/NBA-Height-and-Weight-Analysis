{
 "cells": [
  {
   "cell_type": "markdown",
   "metadata": {},
   "source": [
    "#### Import libraries"
   ]
  },
  {
   "cell_type": "code",
   "execution_count": 1,
   "metadata": {},
   "outputs": [],
   "source": [
    "from nba_api.stats.endpoints import playergamelog\n",
    "from nba_api.stats.static import players\n",
    "import pandas as pd\n",
    "import time"
   ]
  },
  {
   "cell_type": "markdown",
   "metadata": {},
   "source": [
    "#### Fetch Data"
   ]
  },
  {
   "cell_type": "markdown",
   "metadata": {},
   "source": [
    "Fetch data for target seasons"
   ]
  },
  {
   "cell_type": "code",
   "execution_count": 2,
   "metadata": {},
   "outputs": [],
   "source": [
    "players_seasons = {\n",
    "    'Shaquille O\\'Neal': ['2007-08'],\n",
    "    'Kobe Bryant': ['2003-04'],\n",
    "    'Derrick Rose': ['2016-17'],\n",
    "    'Dwight Howard': ['2012-13'],\n",
    "    'Carmelo Anthony': ['2016-17'],\n",
    "    'Allen Iverson': ['2000-01'],\n",
    "    'Gilbert Arenas': ['2009-10'],\n",
    "    'Paul Pierce': ['2000-01'],\n",
    "    'Kevin Love': ['2018-19'],\n",
    "    'DeMar DeRozan': ['2018-19']\n",
    "}\n"
   ]
  },
  {
   "cell_type": "markdown",
   "metadata": {},
   "source": [
    "Design the data fetching process\n",
    "\n",
    "Data Validation: Ensure that the data retrieved is complete and accurate by adding check for empty dataFrames, missing values, and verify the data consistency.  \n",
    "Rate Limiting: Introduce a delay between each request to the API"
   ]
  },
  {
   "cell_type": "code",
   "execution_count": 3,
   "metadata": {},
   "outputs": [],
   "source": [
    "def fetch_data(fetch_players_seasons, target_stats = ['PTS', 'AST', 'REB', 'FG_PCT'], request_delay = 0.1):\n",
    "    \n",
    "    average_stats = {}\n",
    "    \n",
    "    for name, seasons in fetch_players_seasons.items():\n",
    "        player_dict = players.find_players_by_full_name(name)\n",
    "        if player_dict:\n",
    "            player_id = player_dict[0]['id']\n",
    "            for season in seasons:\n",
    "                # Delay each API request\n",
    "                time.sleep(request_delay)\n",
    "                \n",
    "                gamelog = playergamelog.PlayerGameLog(player_id=player_id, season=season)\n",
    "                df = gamelog.get_data_frames()[0]\n",
    "\n",
    "                # Data validation checks\n",
    "                \n",
    "                # Check for Empty DataFrames\n",
    "                if df.empty:\n",
    "                    print(f\"No data available for {name} in the {season} season.\")\n",
    "                    continue\n",
    "                \n",
    "                # Check for Missing Values\n",
    "                if df[target_stats].isnull().values.any():\n",
    "                    print(f\"Missing data for {name} in the {season} season.\")\n",
    "                    continue\n",
    "                \n",
    "                # Verify Data Consistency\n",
    "                if not all([pd.api.types.is_numeric_dtype(df[col]) for col in target_stats]):\n",
    "                    print(f\"Incorrect data types for {name} in the {season} season.\")\n",
    "                    continue\n",
    "\n",
    "                # Calculate average stats\n",
    "                avg_points = df['PTS'].mean()\n",
    "                avg_assists = df['AST'].mean()\n",
    "                avg_rebounds = df['REB'].mean()\n",
    "                avg_fg_pct = df['FG_PCT'].mean()\n",
    "\n",
    "                # Store in the dictionary\n",
    "                average_stats[name] = {\n",
    "                    'PPG': avg_points,\n",
    "                    'APG': avg_assists,\n",
    "                    'RPG': avg_rebounds,\n",
    "                    'FG%': avg_fg_pct\n",
    "                }\n",
    "    return average_stats"
   ]
  },
  {
   "cell_type": "code",
   "execution_count": 4,
   "metadata": {},
   "outputs": [],
   "source": [
    "target_average_stats = fetch_data(players_seasons)"
   ]
  },
  {
   "cell_type": "code",
   "execution_count": 5,
   "metadata": {},
   "outputs": [
    {
     "name": "stdout",
     "output_type": "stream",
     "text": [
      "{\"Shaquille O'Neal\": {'PPG': 13.639344262295081, 'APG': 1.5245901639344261, 'RPG': 9.081967213114755, 'FG%': 0.609327868852459}, 'Kobe Bryant': {'PPG': 23.953846153846154, 'APG': 5.076923076923077, 'RPG': 5.523076923076923, 'FG%': 0.42938461538461536}, 'Derrick Rose': {'PPG': 18.03125, 'APG': 4.421875, 'RPG': 3.84375, 'FG%': 0.463984375}, 'Dwight Howard': {'PPG': 17.05263157894737, 'APG': 1.4210526315789473, 'RPG': 12.43421052631579, 'FG%': 0.563407894736842}, 'Carmelo Anthony': {'PPG': 22.41891891891892, 'APG': 2.8783783783783785, 'RPG': 5.918918918918919, 'FG%': 0.4342297297297298}, 'Allen Iverson': {'PPG': 31.08450704225352, 'APG': 4.577464788732394, 'RPG': 3.8450704225352115, 'FG%': 0.4128450704225352}, 'Gilbert Arenas': {'PPG': 22.5625, 'APG': 7.1875, 'RPG': 4.15625, 'FG%': 0.412125}, 'Paul Pierce': {'PPG': 25.25609756097561, 'APG': 3.0853658536585367, 'RPG': 6.365853658536586, 'FG%': 0.4525243902439025}, 'Kevin Love': {'PPG': 17.0, 'APG': 2.1818181818181817, 'RPG': 10.863636363636363, 'FG%': 0.38322727272727275}, 'DeMar DeRozan': {'PPG': 21.233766233766232, 'APG': 6.1688311688311686, 'RPG': 6.0, 'FG%': 0.4834285714285715}}\n"
     ]
    }
   ],
   "source": [
    "print(target_average_stats)"
   ]
  },
  {
   "cell_type": "code",
   "execution_count": 6,
   "metadata": {},
   "outputs": [
    {
     "name": "stdout",
     "output_type": "stream",
     "text": [
      "Data saved to 'OriginalDatasets/target_average_player_stats.csv'\n"
     ]
    }
   ],
   "source": [
    "# Convert the dictionary of average stats to a DataFrame\n",
    "average_stats_df = pd.DataFrame.from_dict(target_average_stats, orient='index')\n",
    "\n",
    "# Save the DataFrame to a CSV file\n",
    "average_stats_df.to_csv('OriginalDatasets/target_average_player_stats.csv')\n",
    "\n",
    "print(\"Data saved to 'OriginalDatasets/target_average_player_stats.csv'\")"
   ]
  },
  {
   "cell_type": "markdown",
   "metadata": {},
   "source": [
    "Fetch data for baseline seasons"
   ]
  },
  {
   "cell_type": "code",
   "execution_count": 7,
   "metadata": {},
   "outputs": [],
   "source": [
    "players_baseline_seasons = {\n",
    "    'Shaquille O\\'Neal': ['2005-06', '2006-07', '2008-09', '2009-10'],\n",
    "    'Kobe Bryant': ['2001-02', '2002-03', '2004-05', '2005-06'],\n",
    "    'Derrick Rose': ['2014-15', '2015-16', '2017-18', '2018-19'],\n",
    "    'Dwight Howard': ['2010-11', '2011-12', '2013-14', '2014-15'],\n",
    "    'Carmelo Anthony': ['2014-15', '2015-16', '2017-18', '2018-19'],\n",
    "    'Allen Iverson': ['1998-99', '1999-00', '2001-02', '2002-03'],\n",
    "    'Gilbert Arenas': ['2007-08', '2008-09', '2010-11', '2011-12'],\n",
    "    'Paul Pierce': ['1998-99', '1999-00', '2001-02', '2002-03'],\n",
    "    'Kevin Love': ['2016-17', '2017-18', '2019-20', '2020-21'],\n",
    "    'DeMar DeRozan': ['2016-17', '2017-18', '2019-20', '2020-21']\n",
    "}"
   ]
  },
  {
   "cell_type": "code",
   "execution_count": 8,
   "metadata": {},
   "outputs": [],
   "source": [
    "def fetch_baseline_data(fetch_players_seasons, target_stats = ['PTS', 'AST', 'REB', 'FG_PCT'], request_delay = 0.1):\n",
    "    \n",
    "    baseline_average_stats = {}\n",
    "    \n",
    "    for name, seasons in fetch_players_seasons.items():\n",
    "        player_dict = players.find_players_by_full_name(name)\n",
    "        if player_dict:\n",
    "            player_id = player_dict[0]['id']\n",
    "            for season in seasons:\n",
    "                # Delay each API request\n",
    "                time.sleep(request_delay)\n",
    "                \n",
    "                gamelog = playergamelog.PlayerGameLog(player_id=player_id, season=season)\n",
    "                df = gamelog.get_data_frames()[0]\n",
    "\n",
    "                # Data validation checks\n",
    "                \n",
    "                # Check for Empty DataFrames\n",
    "                if df.empty:\n",
    "                    print(f\"No data available for {name} in the {season} season.\")\n",
    "                    continue\n",
    "                \n",
    "                # Check for Missing Values\n",
    "                if df[target_stats].isnull().values.any():\n",
    "                    print(f\"Missing data for {name} in the {season} season.\")\n",
    "                    continue\n",
    "                \n",
    "                # Verify Data Consistency\n",
    "                if not all([pd.api.types.is_numeric_dtype(df[col]) for col in target_stats]):\n",
    "                    print(f\"Incorrect data types for {name} in the {season} season.\")\n",
    "                    continue\n",
    "                \n",
    "                # Calculate average stats for baseline seasons\n",
    "                avg_points = df['PTS'].mean()\n",
    "                avg_assists = df['AST'].mean()\n",
    "                avg_rebounds = df['REB'].mean()\n",
    "                avg_fg_pct = df['FG_PCT'].mean()\n",
    "\n",
    "                # Store in the baseline stats dictionary\n",
    "                if name not in baseline_average_stats:\n",
    "                    baseline_average_stats[name] = {'PPG': [], 'APG': [], 'RPG': [], 'FG%': []}\n",
    "                \n",
    "                baseline_average_stats[name]['PPG'].append(avg_points)\n",
    "                baseline_average_stats[name]['APG'].append(avg_assists)\n",
    "                baseline_average_stats[name]['RPG'].append(avg_rebounds)\n",
    "                baseline_average_stats[name]['FG%'].append(avg_fg_pct)\n",
    "                \n",
    "    return baseline_average_stats"
   ]
  },
  {
   "cell_type": "code",
   "execution_count": 9,
   "metadata": {},
   "outputs": [],
   "source": [
    "baseline_avg_stats = fetch_baseline_data(players_baseline_seasons)\n",
    "\n",
    "# Calculate overall average for baseline seasons\n",
    "for player, stats in baseline_avg_stats.items():\n",
    "    for stat, values in stats.items():\n",
    "        baseline_avg_stats[player][stat] = sum(values) / len(values)"
   ]
  },
  {
   "cell_type": "code",
   "execution_count": 10,
   "metadata": {},
   "outputs": [
    {
     "name": "stdout",
     "output_type": "stream",
     "text": [
      "{\"Shaquille O'Neal\": {'PPG': 16.760070621468927, 'APG': 1.7699220498880717, 'RPG': 7.933151183242724, 'FG%': 0.5900916562733184}, 'Kobe Bryant': {'PPG': 29.552575295639322, 'APG': 5.467789172209904, 'RPG': 5.910610679970436, 'FG%': 0.4537438077420547}, 'Derrick Rose': {'PPG': 15.107379679144387, 'APG': 3.8568538324420674, 'RPG': 2.6777629233511586, 'FG%': 0.42432275401069514}, 'Dwight Howard': {'PPG': 19.376652294421103, 'APG': 1.59057585384449, 'RPG': 12.83083458362572, 'FG%': 0.5912839724749721}, 'Carmelo Anthony': {'PPG': 18.890972222222224, 'APG': 2.2558226495726497, 'RPG': 6.382478632478632, 'FG%': 0.418889423076923}, 'Allen Iverson': {'PPG': 28.533246225319395, 'APG': 5.0961999128919855, 'RPG': 4.352351916376307, 'FG%': 0.40829231271777006}, 'Gilbert Arenas': {'PPG': 11.851405946994182, 'APG': 5.012508080155139, 'RPG': 3.045475113122172, 'FG%': 0.3345525371687137}, 'Paul Pierce': {'PPG': 22.024375992118035, 'APG': 3.255969735465735, 'RPG': 6.520263063709837, 'FG%': 0.4347866318658798}, 'Kevin Love': {'PPG': 16.61712570621469, 'APG': 2.344416868442292, 'RPG': 9.390523607748184, 'FG%': 0.4132524263518967}, 'DeMar DeRozan': {'PPG': 23.49717871198103, 'APG': 5.409421749980453, 'RPG': 4.728580934478354, 'FG%': 0.4842909787197998}}\n"
     ]
    }
   ],
   "source": [
    "print(baseline_avg_stats)"
   ]
  },
  {
   "cell_type": "code",
   "execution_count": 11,
   "metadata": {},
   "outputs": [
    {
     "name": "stdout",
     "output_type": "stream",
     "text": [
      "Data saved to 'OriginalDatasets/baseline_average_player_stats.csv'\n"
     ]
    }
   ],
   "source": [
    "# Convert the dictionary of average stats to a DataFrame\n",
    "average_stats_df = pd.DataFrame.from_dict(baseline_avg_stats, orient='index')\n",
    "\n",
    "# Save the DataFrame to a CSV file\n",
    "average_stats_df.to_csv('OriginalDatasets/baseline_average_player_stats.csv')\n",
    "\n",
    "print(\"Data saved to 'OriginalDatasets/baseline_average_player_stats.csv'\")"
   ]
  }
 ],
 "metadata": {
  "kernelspec": {
   "display_name": "nba",
   "language": "python",
   "name": "python3"
  },
  "language_info": {
   "codemirror_mode": {
    "name": "ipython",
    "version": 3
   },
   "file_extension": ".py",
   "mimetype": "text/x-python",
   "name": "python",
   "nbconvert_exporter": "python",
   "pygments_lexer": "ipython3",
   "version": "3.11.5"
  }
 },
 "nbformat": 4,
 "nbformat_minor": 2
}
