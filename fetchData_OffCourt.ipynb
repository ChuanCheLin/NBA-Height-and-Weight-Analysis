{
 "cells": [
  {
   "cell_type": "markdown",
   "metadata": {},
   "source": [
    "#### Import libraries"
   ]
  },
  {
   "cell_type": "code",
   "execution_count": 1,
   "metadata": {
    "ExecuteTime": {
     "end_time": "2023-11-30T01:46:11.959899300Z",
     "start_time": "2023-11-30T01:46:11.687229600Z"
    }
   },
   "outputs": [],
   "source": [
    "import pandas as pd\n",
    "import fetchData_OffCourt\n",
    "from dataProcessing_OffCourt import split_player_season, calculate_averages"
   ]
  },
  {
   "cell_type": "markdown",
   "metadata": {},
   "source": [
    "#### Fetch Data"
   ]
  },
  {
   "cell_type": "markdown",
   "metadata": {},
   "source": [
    "Fetch data for target seasons"
   ]
  },
  {
   "cell_type": "code",
   "execution_count": 2,
   "metadata": {
    "ExecuteTime": {
     "end_time": "2023-11-30T01:46:11.969751200Z",
     "start_time": "2023-11-30T01:46:11.962899400Z"
    }
   },
   "outputs": [],
   "source": [
    "players_seasons = {\n",
    "    'Shaquille O\\'Neal': ['2007-08'],\n",
    "    'Kobe Bryant': ['2003-04'],\n",
    "    'Derrick Rose': ['2016-17'],\n",
    "    'Dwight Howard': ['2012-13'],\n",
    "    'Carmelo Anthony': ['2016-17'],\n",
    "    'Allen Iverson': ['2000-01'],\n",
    "    'Gilbert Arenas': ['2009-10'],\n",
    "    'Paul Pierce': ['2000-01'],\n",
    "    'Kevin Love': ['2018-19'],\n",
    "    'DeMar DeRozan': ['2018-19']\n",
    "}\n"
   ]
  },
  {
   "cell_type": "markdown",
   "metadata": {},
   "source": [
    "Design the data fetching process\n",
    "\n",
    "Data Validation: Ensure that the data retrieved is complete and accurate by adding check for empty dataFrames, missing values, and verify the data consistency.  \n",
    "Rate Limiting: Introduce a delay between each request to the API"
   ]
  },
  {
   "cell_type": "code",
   "execution_count": 3,
   "metadata": {
    "ExecuteTime": {
     "end_time": "2023-11-30T01:46:22.051730900Z",
     "start_time": "2023-11-30T01:46:11.972853600Z"
    }
   },
   "outputs": [],
   "source": [
    "target_average_stats = fetchData_OffCourt.fetch_data(fetch_players_seasons=players_seasons, target_stats=['PTS', 'AST', 'REB', 'FG_PCT'])"
   ]
  },
  {
   "cell_type": "code",
   "execution_count": 4,
   "metadata": {
    "ExecuteTime": {
     "end_time": "2023-11-30T01:46:22.058636300Z",
     "start_time": "2023-11-30T01:46:22.049727300Z"
    }
   },
   "outputs": [
    {
     "name": "stdout",
     "output_type": "stream",
     "text": [
      "{\"Shaquille O'Neal_2007-08\": {'PTS': 13.639344262295081, 'AST': 1.5245901639344261, 'REB': 9.081967213114755, 'FG_PCT': 0.609327868852459}, 'Kobe Bryant_2003-04': {'PTS': 23.953846153846154, 'AST': 5.076923076923077, 'REB': 5.523076923076923, 'FG_PCT': 0.42938461538461536}, 'Derrick Rose_2016-17': {'PTS': 18.03125, 'AST': 4.421875, 'REB': 3.84375, 'FG_PCT': 0.463984375}, 'Dwight Howard_2012-13': {'PTS': 17.05263157894737, 'AST': 1.4210526315789473, 'REB': 12.43421052631579, 'FG_PCT': 0.563407894736842}, 'Carmelo Anthony_2016-17': {'PTS': 22.41891891891892, 'AST': 2.8783783783783785, 'REB': 5.918918918918919, 'FG_PCT': 0.4342297297297298}, 'Allen Iverson_2000-01': {'PTS': 31.08450704225352, 'AST': 4.577464788732394, 'REB': 3.8450704225352115, 'FG_PCT': 0.4128450704225352}, 'Gilbert Arenas_2009-10': {'PTS': 22.5625, 'AST': 7.1875, 'REB': 4.15625, 'FG_PCT': 0.412125}, 'Paul Pierce_2000-01': {'PTS': 25.25609756097561, 'AST': 3.0853658536585367, 'REB': 6.365853658536586, 'FG_PCT': 0.4525243902439025}, 'Kevin Love_2018-19': {'PTS': 17.0, 'AST': 2.1818181818181817, 'REB': 10.863636363636363, 'FG_PCT': 0.38322727272727275}, 'DeMar DeRozan_2018-19': {'PTS': 21.233766233766232, 'AST': 6.1688311688311686, 'REB': 6.0, 'FG_PCT': 0.4834285714285715}}\n"
     ]
    }
   ],
   "source": [
    "print(target_average_stats)"
   ]
  },
  {
   "cell_type": "code",
   "execution_count": 5,
   "metadata": {
    "ExecuteTime": {
     "end_time": "2023-11-30T01:46:22.073473700Z",
     "start_time": "2023-11-30T01:46:22.060639900Z"
    }
   },
   "outputs": [
    {
     "name": "stdout",
     "output_type": "stream",
     "text": [
      "Data saved to 'OriginalDatasets/target_average_player_stats.csv'\n"
     ]
    }
   ],
   "source": [
    "# Convert the dictionary of average stats to a DataFrame\n",
    "average_stats_df = pd.DataFrame.from_dict(target_average_stats, orient='index')\n",
    "\n",
    "# Save the DataFrame to a CSV file\n",
    "average_stats_df.to_csv('OriginalDatasets/target_average_player_stats.csv')\n",
    "\n",
    "print(\"Data saved to 'OriginalDatasets/target_average_player_stats.csv'\")"
   ]
  },
  {
   "cell_type": "markdown",
   "metadata": {},
   "source": [
    "Fetch data for baseline seasons"
   ]
  },
  {
   "cell_type": "code",
   "execution_count": 6,
   "metadata": {
    "ExecuteTime": {
     "end_time": "2023-11-30T01:46:22.122038400Z",
     "start_time": "2023-11-30T01:46:22.073323400Z"
    }
   },
   "outputs": [],
   "source": [
    "players_baseline_seasons = {\n",
    "    'Shaquille O\\'Neal': ['2005-06', '2006-07', '2008-09', '2009-10'],\n",
    "    'Kobe Bryant': ['2001-02', '2002-03', '2004-05', '2005-06'],\n",
    "    'Derrick Rose': ['2014-15', '2015-16', '2017-18', '2018-19'],\n",
    "    'Dwight Howard': ['2010-11', '2011-12', '2013-14', '2014-15'],\n",
    "    'Carmelo Anthony': ['2014-15', '2015-16', '2017-18', '2018-19'],\n",
    "    'Allen Iverson': ['1998-99', '1999-00', '2001-02', '2002-03'],\n",
    "    'Gilbert Arenas': ['2007-08', '2008-09', '2010-11', '2011-12'],\n",
    "    'Paul Pierce': ['1998-99', '1999-00', '2001-02', '2002-03'],\n",
    "    'Kevin Love': ['2016-17', '2017-18', '2019-20', '2020-21'],\n",
    "    'DeMar DeRozan': ['2016-17', '2017-18', '2019-20', '2020-21']\n",
    "}"
   ]
  },
  {
   "cell_type": "code",
   "execution_count": 7,
   "metadata": {
    "ExecuteTime": {
     "end_time": "2023-11-30T01:47:01.037881Z",
     "start_time": "2023-11-30T01:46:22.080330300Z"
    }
   },
   "outputs": [],
   "source": [
    "baseline_avg_stats = fetchData_OffCourt.fetch_data(fetch_players_seasons=players_baseline_seasons, target_stats=['PTS', 'AST', 'REB', 'FG_PCT'])"
   ]
  },
  {
   "cell_type": "code",
   "execution_count": 8,
   "metadata": {
    "ExecuteTime": {
     "end_time": "2023-11-30T01:47:01.054572Z",
     "start_time": "2023-11-30T01:47:01.041510500Z"
    }
   },
   "outputs": [
    {
     "name": "stdout",
     "output_type": "stream",
     "text": [
      "{\"Shaquille O'Neal_2005-06\": {'PTS': 20.016949152542374, 'AST': 1.9152542372881356, 'REB': 9.169491525423728, 'FG_PCT': 0.5963220338983052}, \"Shaquille O'Neal_2006-07\": {'PTS': 17.25, 'AST': 1.975, 'REB': 7.425, 'FG_PCT': 0.58515}, \"Shaquille O'Neal_2008-09\": {'PTS': 17.773333333333333, 'AST': 1.68, 'REB': 8.44, 'FG_PCT': 0.6110266666666666}, \"Shaquille O'Neal_2009-10\": {'PTS': 12.0, 'AST': 1.509433962264151, 'REB': 6.69811320754717, 'FG_PCT': 0.5678679245283018}, 'Kobe Bryant_2001-02': {'PTS': 25.2375, 'AST': 5.475, 'REB': 5.5125, 'FG_PCT': 0.4760999999999999}, 'Kobe Bryant_2002-03': {'PTS': 30.01219512195122, 'AST': 5.865853658536586, 'REB': 6.878048780487805, 'FG_PCT': 0.45297560975609763}, 'Kobe Bryant_2004-05': {'PTS': 27.560606060606062, 'AST': 6.03030303030303, 'REB': 5.9393939393939394, 'FG_PCT': 0.43371212121212116}, 'Kobe Bryant_2005-06': {'PTS': 35.4, 'AST': 4.5, 'REB': 5.3125, 'FG_PCT': 0.4521875000000001}, 'Derrick Rose_2014-15': {'PTS': 17.725490196078432, 'AST': 4.921568627450981, 'REB': 3.156862745098039, 'FG_PCT': 0.39698039215686265}, 'Derrick Rose_2015-16': {'PTS': 16.363636363636363, 'AST': 4.712121212121212, 'REB': 3.409090909090909, 'FG_PCT': 0.4182878787878788}, 'Derrick Rose_2017-18': {'PTS': 8.36, 'AST': 1.48, 'REB': 1.4, 'FG_PCT': 0.40515999999999996}, 'Derrick Rose_2018-19': {'PTS': 17.980392156862745, 'AST': 4.313725490196078, 'REB': 2.7450980392156863, 'FG_PCT': 0.4768627450980392}, 'Dwight Howard_2010-11': {'PTS': 22.871794871794872, 'AST': 1.3717948717948718, 'REB': 14.076923076923077, 'FG_PCT': 0.5939615384615384}, 'Dwight Howard_2011-12': {'PTS': 20.61111111111111, 'AST': 1.9259259259259258, 'REB': 14.537037037037036, 'FG_PCT': 0.5730925925925925}, 'Dwight Howard_2013-14': {'PTS': 18.267605633802816, 'AST': 1.8450704225352113, 'REB': 12.19718309859155, 'FG_PCT': 0.5911549295774647}, 'Dwight Howard_2014-15': {'PTS': 15.75609756097561, 'AST': 1.2195121951219512, 'REB': 10.512195121951219, 'FG_PCT': 0.6069268292682927}, 'Carmelo Anthony_2014-15': {'PTS': 24.15, 'AST': 3.05, 'REB': 6.6, 'FG_PCT': 0.453125}, 'Carmelo Anthony_2015-16': {'PTS': 21.84722222222222, 'AST': 4.152777777777778, 'REB': 7.722222222222222, 'FG_PCT': 0.4352916666666667}, 'Carmelo Anthony_2017-18': {'PTS': 16.166666666666668, 'AST': 1.3205128205128205, 'REB': 5.8076923076923075, 'FG_PCT': 0.40114102564102555}, 'Carmelo Anthony_2018-19': {'PTS': 13.4, 'AST': 0.5, 'REB': 5.4, 'FG_PCT': 0.386}, 'Allen Iverson_1998-99': {'PTS': 26.75, 'AST': 4.645833333333333, 'REB': 4.916666666666667, 'FG_PCT': 0.4017916666666667}, 'Allen Iverson_1999-00': {'PTS': 28.414285714285715, 'AST': 4.685714285714286, 'REB': 3.8142857142857145, 'FG_PCT': 0.41908571428571434}, 'Allen Iverson_2001-02': {'PTS': 31.383333333333333, 'AST': 5.516666666666667, 'REB': 4.483333333333333, 'FG_PCT': 0.39913333333333334}, 'Allen Iverson_2002-03': {'PTS': 27.585365853658537, 'AST': 5.536585365853658, 'REB': 4.195121951219512, 'FG_PCT': 0.41315853658536583}, 'Gilbert Arenas_2007-08': {'PTS': 19.384615384615383, 'AST': 5.076923076923077, 'REB': 3.923076923076923, 'FG_PCT': 0.3971538461538462}, 'Gilbert Arenas_2008-09': {'PTS': 13.0, 'AST': 10.0, 'REB': 4.5, 'FG_PCT': 0.2615}, 'Gilbert Arenas_2010-11': {'PTS': 10.785714285714286, 'AST': 3.914285714285714, 'REB': 2.7, 'FG_PCT': 0.34408571428571433}, 'Gilbert Arenas_2011-12': {'PTS': 4.235294117647059, 'AST': 1.0588235294117647, 'REB': 1.0588235294117647, 'FG_PCT': 0.33547058823529413}, 'Paul Pierce_1998-99': {'PTS': 16.479166666666668, 'AST': 2.3958333333333335, 'REB': 6.4375, 'FG_PCT': 0.42902083333333335}, 'Paul Pierce_1999-00': {'PTS': 19.54794520547945, 'AST': 3.0273972602739727, 'REB': 5.424657534246576, 'FG_PCT': 0.44867123287671234}, 'Paul Pierce_2001-02': {'PTS': 26.146341463414632, 'AST': 3.182926829268293, 'REB': 6.902439024390244, 'FG_PCT': 0.44536585365853665}, 'Paul Pierce_2002-03': {'PTS': 25.924050632911392, 'AST': 4.417721518987341, 'REB': 7.3164556962025316, 'FG_PCT': 0.4160886075949368}, 'Kevin Love_2016-17': {'PTS': 19.033333333333335, 'AST': 1.9333333333333333, 'REB': 11.1, 'FG_PCT': 0.4173666666666666}, 'Kevin Love_2017-18': {'PTS': 17.610169491525422, 'AST': 1.7457627118644068, 'REB': 9.254237288135593, 'FG_PCT': 0.4297966101694915}, 'Kevin Love_2019-20': {'PTS': 17.625, 'AST': 3.1785714285714284, 'REB': 9.767857142857142, 'FG_PCT': 0.4444464285714286}, 'Kevin Love_2020-21': {'PTS': 12.2, 'AST': 2.52, 'REB': 7.44, 'FG_PCT': 0.3614}, 'DeMar DeRozan_2016-17': {'PTS': 27.2972972972973, 'AST': 3.918918918918919, 'REB': 5.216216216216216, 'FG_PCT': 0.4657297297297298}, 'DeMar DeRozan_2017-18': {'PTS': 23.0, 'AST': 5.2125, 'REB': 3.9375, 'FG_PCT': 0.44799999999999995}, 'DeMar DeRozan_2019-20': {'PTS': 22.11764705882353, 'AST': 5.588235294117647, 'REB': 5.514705882352941, 'FG_PCT': 0.5300735294117647}, 'DeMar DeRozan_2020-21': {'PTS': 21.57377049180328, 'AST': 6.918032786885246, 'REB': 4.245901639344262, 'FG_PCT': 0.4933606557377049}}\n"
     ]
    }
   ],
   "source": [
    "print(baseline_avg_stats)"
   ]
  },
  {
   "cell_type": "code",
   "execution_count": 9,
   "metadata": {
    "ExecuteTime": {
     "end_time": "2023-11-30T01:47:01.116685900Z",
     "start_time": "2023-11-30T01:47:01.052577100Z"
    }
   },
   "outputs": [
    {
     "name": "stdout",
     "output_type": "stream",
     "text": [
      "Data saved to 'OriginalDatasets/baseline_average_player_stats.csv'\n"
     ]
    }
   ],
   "source": [
    "# Convert the dictionary of average stats to a DataFrame\n",
    "average_stats_df = pd.DataFrame.from_dict(baseline_avg_stats, orient='index')\n",
    "\n",
    "# Save the DataFrame to a CSV file\n",
    "average_stats_df.to_csv('OriginalDatasets/baseline_average_player_stats.csv')\n",
    "\n",
    "print(\"Data saved to 'OriginalDatasets/baseline_average_player_stats.csv'\")"
   ]
  },
  {
   "cell_type": "markdown",
   "source": [
    "#### Data Processing"
   ],
   "metadata": {
    "collapsed": false
   }
  },
  {
   "cell_type": "code",
   "execution_count": 10,
   "outputs": [],
   "source": [
    "# Load the datasets\n",
    "baseline_path = './OriginalDatasets/baseline_average_player_stats.csv'\n",
    "target_path = './OriginalDatasets/target_average_player_stats.csv'\n",
    "\n",
    "# Read the files\n",
    "base_df = pd.read_csv(baseline_path)\n",
    "tgt_df = pd.read_csv(target_path)"
   ],
   "metadata": {
    "collapsed": false,
    "ExecuteTime": {
     "end_time": "2023-11-30T01:47:01.128805900Z",
     "start_time": "2023-11-30T01:47:01.073729600Z"
    }
   }
  },
  {
   "cell_type": "code",
   "execution_count": 11,
   "outputs": [
    {
     "name": "stdout",
     "output_type": "stream",
     "text": [
      "                        PTS       AST        REB    FG_PCT\n",
      "Shaquille O'Neal  18.633475  1.945127   8.297246  0.590736\n",
      "Kobe Bryant       27.624848  5.670427   6.195274  0.464538\n",
      "Derrick Rose      17.044563  4.816845   3.282977  0.407634\n",
      "Dwight Howard     21.741453  1.648860  14.306980  0.583527\n",
      "Carmelo Anthony   22.998611  3.601389   7.161111  0.444208\n",
      "                        PTS       AST        REB    FG_PCT\n",
      "Shaquille O'Neal  14.886667  1.594717   7.569057  0.589447\n",
      "Kobe Bryant       31.480303  5.265152   5.625947  0.442950\n",
      "Derrick Rose      13.170196  2.896863   2.072549  0.441011\n",
      "Dwight Howard     17.011852  1.532291  11.354689  0.599041\n",
      "Carmelo Anthony   14.783333  0.910256   5.603846  0.393571\n"
     ]
    }
   ],
   "source": [
    "# Split 'Player_Season' into 'Player' and 'Season' for both datasets\n",
    "base_df = split_player_season(base_df)\n",
    "tgt_df = split_player_season(tgt_df)\n",
    "\n",
    "# Calculate averages\n",
    "before_df, after_df = calculate_averages(base_df, tgt_df)\n",
    "\n",
    "# Displaying the first few rows of the resulting dataframes (optional)\n",
    "print(before_df.head())\n",
    "print(after_df.head())"
   ],
   "metadata": {
    "collapsed": false,
    "ExecuteTime": {
     "end_time": "2023-11-30T01:47:01.131461800Z",
     "start_time": "2023-11-30T01:47:01.092702600Z"
    }
   }
  },
  {
   "cell_type": "code",
   "execution_count": 12,
   "outputs": [],
   "source": [
    "before_df.to_csv('./OriginalDatasets/before_averages.csv')\n",
    "after_df.to_csv('./OriginalDatasets/after_averages.csv')"
   ],
   "metadata": {
    "collapsed": false,
    "ExecuteTime": {
     "end_time": "2023-11-30T01:47:01.142033800Z",
     "start_time": "2023-11-30T01:47:01.132437900Z"
    }
   }
  }
 ],
 "metadata": {
  "kernelspec": {
   "display_name": "nba",
   "language": "python",
   "name": "python3"
  },
  "language_info": {
   "codemirror_mode": {
    "name": "ipython",
    "version": 3
   },
   "file_extension": ".py",
   "mimetype": "text/x-python",
   "name": "python",
   "nbconvert_exporter": "python",
   "pygments_lexer": "ipython3",
   "version": "3.11.5"
  }
 },
 "nbformat": 4,
 "nbformat_minor": 2
}
