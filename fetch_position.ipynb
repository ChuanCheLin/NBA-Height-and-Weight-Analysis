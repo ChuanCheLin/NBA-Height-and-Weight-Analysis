{
 "cells": [
  {
   "cell_type": "markdown",
   "source": [
    "### Using Draft Year and Player Names for Data Integration\n",
    "In the process of enriching our NBA dataset with player position information, we faced a challenge in accurately merging data from the NBA API with our existing dataset. Our existing dataset lacked a unique player identifier, such as a player ID, which is typically used to ensure precise matching in data integration tasks.\n",
    "\n",
    "#### Why Draft Year and Player Names?\n",
    "To overcome this challenge, we chose to use a combination of player names and draft years as key identifiers for merging the datasets. This decision was based on the following considerations:  \n",
    "\n",
    "Uniqueness: Although player names alone can sometimes lead to duplication (due to common names shared by multiple players), combining names with draft years significantly increases the likelihood of creating a unique identifier for each player. It's rare for two players with the exact same name to be drafted in the same year.  \n",
    "\n",
    "Data Availability: Both our existing dataset and the data fetched from the NBA API consistently include player names and draft years. This consistency is crucial for creating reliable merge keys.  \n",
    "\n",
    "Simplicity and Practicality: Using available data fields without the need for complex transformations or external data sources simplifies the data integration process. It also aligns with practical constraints and available resources.  \n",
    "\n",
    "#### Implementation Approach\n",
    "We implemented this approach by first creating a concatenated key in both datasets, combining each player's full name with their draft year (formatted as a string). For example, a player named \"John Doe\" drafted in 1998 would have a merge key of \"John Doe_1998\". This key was then used to merge the datasets, ensuring that each player's position information from the NBA API correctly aligned with their respective entry in our existing dataset."
   ],
   "metadata": {
    "collapsed": false
   },
   "id": "eb202bafb5e1ba45"
  },
  {
   "cell_type": "code",
   "execution_count": 1,
   "id": "initial_id",
   "metadata": {
    "collapsed": true,
    "ExecuteTime": {
     "end_time": "2023-12-01T18:08:41.381774400Z",
     "start_time": "2023-12-01T18:08:40.117608500Z"
    }
   },
   "outputs": [],
   "source": [
    "from nba_api.stats.endpoints import PlayerIndex\n",
    "import pandas as pd\n",
    "import numpy as np\n",
    "\n",
    "# Initialize the PlayerIndex class to fetch data\n",
    "player_index = PlayerIndex(historical_nullable='1')\n",
    "\n",
    "# Extract the player index data\n",
    "player_data = player_index.player_index.get_data_frame()\n",
    "\n",
    "# Select only the necessary columns and explicitly create a copy\n",
    "selected_columns = ['DRAFT_YEAR', 'PLAYER_LAST_NAME', 'PLAYER_FIRST_NAME', 'POSITION']\n",
    "player_position_data = player_data[selected_columns].copy()\n",
    "\n",
    "# Fill missing values in 'DRAFT_YEAR', convert to integer, then to string\n",
    "player_position_data['DRAFT_YEAR'] = player_position_data['DRAFT_YEAR'].fillna(0).astype(int).astype(str)\n",
    "\n",
    "# Concatenate the first and last names to create a full name\n",
    "player_position_data['full_name'] = player_position_data['PLAYER_FIRST_NAME'] + ' ' + player_position_data['PLAYER_LAST_NAME']\n",
    "\n",
    "# Create a combined key using full name and draft year\n",
    "player_position_data['merge_key'] = player_position_data['full_name'] + '_' + player_position_data['DRAFT_YEAR']\n",
    "\n",
    "# Save the fetched data\n",
    "player_position_data.to_csv(\"./OriginalDatasets/player_positions.csv\", index=False)"
   ]
  },
  {
   "cell_type": "code",
   "execution_count": 2,
   "outputs": [
    {
     "data": {
      "text/plain": "  DRAFT_YEAR PLAYER_LAST_NAME PLAYER_FIRST_NAME POSITION            full_name  \\\n0       1990        Abdelnaby              Alaa        F       Alaa Abdelnaby   \n1       1968       Abdul-Aziz              Zaid        C      Zaid Abdul-Aziz   \n2       1969     Abdul-Jabbar            Kareem        C  Kareem Abdul-Jabbar   \n3       1990       Abdul-Rauf           Mahmoud        G   Mahmoud Abdul-Rauf   \n4       1997      Abdul-Wahad             Tariq      F-G    Tariq Abdul-Wahad   \n\n                  merge_key  \n0       Alaa Abdelnaby_1990  \n1      Zaid Abdul-Aziz_1968  \n2  Kareem Abdul-Jabbar_1969  \n3   Mahmoud Abdul-Rauf_1990  \n4    Tariq Abdul-Wahad_1997  ",
      "text/html": "<div>\n<style scoped>\n    .dataframe tbody tr th:only-of-type {\n        vertical-align: middle;\n    }\n\n    .dataframe tbody tr th {\n        vertical-align: top;\n    }\n\n    .dataframe thead th {\n        text-align: right;\n    }\n</style>\n<table border=\"1\" class=\"dataframe\">\n  <thead>\n    <tr style=\"text-align: right;\">\n      <th></th>\n      <th>DRAFT_YEAR</th>\n      <th>PLAYER_LAST_NAME</th>\n      <th>PLAYER_FIRST_NAME</th>\n      <th>POSITION</th>\n      <th>full_name</th>\n      <th>merge_key</th>\n    </tr>\n  </thead>\n  <tbody>\n    <tr>\n      <th>0</th>\n      <td>1990</td>\n      <td>Abdelnaby</td>\n      <td>Alaa</td>\n      <td>F</td>\n      <td>Alaa Abdelnaby</td>\n      <td>Alaa Abdelnaby_1990</td>\n    </tr>\n    <tr>\n      <th>1</th>\n      <td>1968</td>\n      <td>Abdul-Aziz</td>\n      <td>Zaid</td>\n      <td>C</td>\n      <td>Zaid Abdul-Aziz</td>\n      <td>Zaid Abdul-Aziz_1968</td>\n    </tr>\n    <tr>\n      <th>2</th>\n      <td>1969</td>\n      <td>Abdul-Jabbar</td>\n      <td>Kareem</td>\n      <td>C</td>\n      <td>Kareem Abdul-Jabbar</td>\n      <td>Kareem Abdul-Jabbar_1969</td>\n    </tr>\n    <tr>\n      <th>3</th>\n      <td>1990</td>\n      <td>Abdul-Rauf</td>\n      <td>Mahmoud</td>\n      <td>G</td>\n      <td>Mahmoud Abdul-Rauf</td>\n      <td>Mahmoud Abdul-Rauf_1990</td>\n    </tr>\n    <tr>\n      <th>4</th>\n      <td>1997</td>\n      <td>Abdul-Wahad</td>\n      <td>Tariq</td>\n      <td>F-G</td>\n      <td>Tariq Abdul-Wahad</td>\n      <td>Tariq Abdul-Wahad_1997</td>\n    </tr>\n  </tbody>\n</table>\n</div>"
     },
     "execution_count": 2,
     "metadata": {},
     "output_type": "execute_result"
    }
   ],
   "source": [
    "player_position_data.head()"
   ],
   "metadata": {
    "collapsed": false,
    "ExecuteTime": {
     "end_time": "2023-12-01T18:08:41.404020500Z",
     "start_time": "2023-12-01T18:08:41.382789Z"
    }
   },
   "id": "8274b64e7863d443"
  },
  {
   "cell_type": "code",
   "execution_count": 3,
   "outputs": [],
   "source": [
    "# Load the existing dataset\n",
    "existing_data = pd.read_csv('./ExsitingDatasets/all_seasons.csv')\n",
    "\n",
    "# Create a combined key in the existing data using player_name and draft_year\n",
    "existing_data['merge_key'] = existing_data['player_name'] + '_' + existing_data['draft_year']"
   ],
   "metadata": {
    "collapsed": false,
    "ExecuteTime": {
     "end_time": "2023-12-01T18:08:41.600787300Z",
     "start_time": "2023-12-01T18:08:41.403080900Z"
    }
   },
   "id": "1b621cdfbb8989ac"
  },
  {
   "cell_type": "code",
   "execution_count": 4,
   "outputs": [],
   "source": [
    "# Merge the datasets on the merge_key\n",
    "merged_data = pd.merge(existing_data, player_position_data[['merge_key', 'POSITION']], \n",
    "                       on='merge_key', how='left')\n",
    "\n",
    "# Drop the extra 'merge_key' column after merge, if no longer needed\n",
    "merged_data.drop('merge_key', axis=1, inplace=True)"
   ],
   "metadata": {
    "collapsed": false,
    "ExecuteTime": {
     "end_time": "2023-12-01T18:08:41.607575800Z",
     "start_time": "2023-12-01T18:08:41.498447400Z"
    }
   },
   "id": "5445a7f0f8a79a34"
  },
  {
   "cell_type": "code",
   "execution_count": 5,
   "outputs": [
    {
     "name": "stdout",
     "output_type": "stream",
     "text": [
      "<class 'pandas.core.frame.DataFrame'>\n",
      "RangeIndex: 12845 entries, 0 to 12844\n",
      "Data columns (total 23 columns):\n",
      " #   Column             Non-Null Count  Dtype  \n",
      "---  ------             --------------  -----  \n",
      " 0   Unnamed: 0         12845 non-null  int64  \n",
      " 1   player_name        12845 non-null  object \n",
      " 2   team_abbreviation  12845 non-null  object \n",
      " 3   age                12845 non-null  float64\n",
      " 4   player_height      12845 non-null  float64\n",
      " 5   player_weight      12845 non-null  float64\n",
      " 6   college            10991 non-null  object \n",
      " 7   country            12845 non-null  object \n",
      " 8   draft_year         12845 non-null  object \n",
      " 9   draft_round        12845 non-null  object \n",
      " 10  draft_number       12845 non-null  object \n",
      " 11  gp                 12845 non-null  int64  \n",
      " 12  pts                12845 non-null  float64\n",
      " 13  reb                12845 non-null  float64\n",
      " 14  ast                12845 non-null  float64\n",
      " 15  net_rating         12845 non-null  float64\n",
      " 16  oreb_pct           12845 non-null  float64\n",
      " 17  dreb_pct           12845 non-null  float64\n",
      " 18  usg_pct            12845 non-null  float64\n",
      " 19  ts_pct             12845 non-null  float64\n",
      " 20  ast_pct            12845 non-null  float64\n",
      " 21  season             12845 non-null  object \n",
      " 22  POSITION           10411 non-null  object \n",
      "dtypes: float64(12), int64(2), object(9)\n",
      "memory usage: 2.3+ MB\n"
     ]
    }
   ],
   "source": [
    "merged_data.info()"
   ],
   "metadata": {
    "collapsed": false,
    "ExecuteTime": {
     "end_time": "2023-12-01T18:08:41.607575800Z",
     "start_time": "2023-12-01T18:08:41.528672100Z"
    }
   },
   "id": "3e0ef4c8f73a99ea"
  },
  {
   "cell_type": "markdown",
   "source": [
    "#### Addressing Missing POSITION Data in Merged NBA Dataset\n",
    "Upon merging our existing NBA dataset with player position data from the NBA API using player names and draft years as key identifiers, we observed that some players in the merged dataset were missing POSITION information. This discrepancy primarily arises from missing or mismatched draft_year data.   \n",
    "\n",
    "Missing draft_year in API Data: Some players in the NBA API's PlayerIndex data might not have draft_year information. This absence occurs particularly with undrafted players or those with incomplete records in the API.  \n",
    "\n",
    "We can add undrafted players into consideration by doing the following."
   ],
   "metadata": {
    "collapsed": false
   },
   "id": "23ccb4bd4ec8a154"
  },
  {
   "cell_type": "code",
   "execution_count": 6,
   "outputs": [],
   "source": [
    "# Load the existing dataset\n",
    "existing_data = pd.read_csv('./ExsitingDatasets/all_seasons.csv')\n",
    "\n",
    "# Replace 'Undrafted' with '0' in the 'draft_year' column of your existing dataset\n",
    "existing_data['draft_year'] = existing_data['draft_year'].replace('Undrafted', '0')\n",
    "\n",
    "# Create a combined key in the existing data using player_name and draft_year\n",
    "existing_data['merge_key'] = existing_data['player_name'] + '_' + existing_data['draft_year']\n",
    "\n",
    "# Assuming 'player_position_data' is already prepared with the 'merge_key'\n",
    "# Merge the datasets on the merge_key\n",
    "merged_data = pd.merge(existing_data, player_position_data[['merge_key', 'POSITION']], \n",
    "                       on='merge_key', how='left')\n",
    "\n",
    "# Drop the extra 'merge_key' column after merge, if no longer needed\n",
    "merged_data.drop('merge_key', axis=1, inplace=True)\n",
    "\n",
    "# Remove duplicates\n",
    "merged_data = merged_data.drop_duplicates(subset=['Unnamed: 0'])"
   ],
   "metadata": {
    "collapsed": false,
    "ExecuteTime": {
     "end_time": "2023-12-01T18:08:41.765991500Z",
     "start_time": "2023-12-01T18:08:41.553335600Z"
    }
   },
   "id": "9aaa01ad4b89258c"
  },
  {
   "cell_type": "code",
   "execution_count": 7,
   "outputs": [
    {
     "name": "stdout",
     "output_type": "stream",
     "text": [
      "<class 'pandas.core.frame.DataFrame'>\n",
      "Index: 12844 entries, 0 to 12872\n",
      "Data columns (total 23 columns):\n",
      " #   Column             Non-Null Count  Dtype  \n",
      "---  ------             --------------  -----  \n",
      " 0   Unnamed: 0         12844 non-null  int64  \n",
      " 1   player_name        12844 non-null  object \n",
      " 2   team_abbreviation  12844 non-null  object \n",
      " 3   age                12844 non-null  float64\n",
      " 4   player_height      12844 non-null  float64\n",
      " 5   player_weight      12844 non-null  float64\n",
      " 6   college            10990 non-null  object \n",
      " 7   country            12844 non-null  object \n",
      " 8   draft_year         12844 non-null  object \n",
      " 9   draft_round        12844 non-null  object \n",
      " 10  draft_number       12844 non-null  object \n",
      " 11  gp                 12844 non-null  int64  \n",
      " 12  pts                12844 non-null  float64\n",
      " 13  reb                12844 non-null  float64\n",
      " 14  ast                12844 non-null  float64\n",
      " 15  net_rating         12844 non-null  float64\n",
      " 16  oreb_pct           12844 non-null  float64\n",
      " 17  dreb_pct           12844 non-null  float64\n",
      " 18  usg_pct            12844 non-null  float64\n",
      " 19  ts_pct             12844 non-null  float64\n",
      " 20  ast_pct            12844 non-null  float64\n",
      " 21  season             12844 non-null  object \n",
      " 22  POSITION           12687 non-null  object \n",
      "dtypes: float64(12), int64(2), object(9)\n",
      "memory usage: 2.4+ MB\n"
     ]
    }
   ],
   "source": [
    "merged_data.info()"
   ],
   "metadata": {
    "collapsed": false,
    "ExecuteTime": {
     "end_time": "2023-12-01T18:08:41.766993900Z",
     "start_time": "2023-12-01T18:08:41.688371800Z"
    }
   },
   "id": "1bc2f45863f05aa5"
  },
  {
   "cell_type": "markdown",
   "source": [
    "#### Simplification of Player Positions in the NBA Dataset\n",
    "We encountered a situation where some players were listed with multiple positions (e.g., \"G-F\" for Guard-Forward or \"C-F\" for Center-Forward). This multiposition notation reflects the versatile roles that players can fulfill on the basketball court. However, for the purposes of streamlined analysis and consistency within our dataset, we decided to simplify the position notation by retaining only the primary position for each player."
   ],
   "metadata": {
    "collapsed": false
   },
   "id": "ebea60fced0eb611"
  },
  {
   "cell_type": "code",
   "execution_count": 8,
   "outputs": [],
   "source": [
    "cleaned_data = merged_data.dropna(subset=['POSITION'])\n",
    "\n",
    "# Now 'cleaned_data' contains only rows where 'POSITION' is not null"
   ],
   "metadata": {
    "collapsed": false,
    "ExecuteTime": {
     "end_time": "2023-12-01T18:08:41.766993900Z",
     "start_time": "2023-12-01T18:08:41.718072400Z"
    }
   },
   "id": "10a2e7fbc4f2f51"
  },
  {
   "cell_type": "code",
   "execution_count": 9,
   "outputs": [],
   "source": [
    "cleaned_data = cleaned_data.copy()\n",
    "\n",
    "cleaned_data['POSITION'] = cleaned_data['POSITION'].apply(lambda x: x.split('-')[0])"
   ],
   "metadata": {
    "collapsed": false,
    "ExecuteTime": {
     "end_time": "2023-12-01T18:08:41.768186200Z",
     "start_time": "2023-12-01T18:08:41.729443700Z"
    }
   },
   "id": "bf44ad9e4c800337"
  },
  {
   "cell_type": "code",
   "execution_count": 10,
   "outputs": [
    {
     "name": "stdout",
     "output_type": "stream",
     "text": [
      "<class 'pandas.core.frame.DataFrame'>\n",
      "Index: 12687 entries, 0 to 12872\n",
      "Data columns (total 23 columns):\n",
      " #   Column             Non-Null Count  Dtype  \n",
      "---  ------             --------------  -----  \n",
      " 0   Unnamed: 0         12687 non-null  int64  \n",
      " 1   player_name        12687 non-null  object \n",
      " 2   team_abbreviation  12687 non-null  object \n",
      " 3   age                12687 non-null  float64\n",
      " 4   player_height      12687 non-null  float64\n",
      " 5   player_weight      12687 non-null  float64\n",
      " 6   college            10869 non-null  object \n",
      " 7   country            12687 non-null  object \n",
      " 8   draft_year         12687 non-null  object \n",
      " 9   draft_round        12687 non-null  object \n",
      " 10  draft_number       12687 non-null  object \n",
      " 11  gp                 12687 non-null  int64  \n",
      " 12  pts                12687 non-null  float64\n",
      " 13  reb                12687 non-null  float64\n",
      " 14  ast                12687 non-null  float64\n",
      " 15  net_rating         12687 non-null  float64\n",
      " 16  oreb_pct           12687 non-null  float64\n",
      " 17  dreb_pct           12687 non-null  float64\n",
      " 18  usg_pct            12687 non-null  float64\n",
      " 19  ts_pct             12687 non-null  float64\n",
      " 20  ast_pct            12687 non-null  float64\n",
      " 21  season             12687 non-null  object \n",
      " 22  POSITION           12687 non-null  object \n",
      "dtypes: float64(12), int64(2), object(9)\n",
      "memory usage: 2.3+ MB\n"
     ]
    }
   ],
   "source": [
    "cleaned_data.info()"
   ],
   "metadata": {
    "collapsed": false,
    "ExecuteTime": {
     "end_time": "2023-12-01T18:08:41.768186200Z",
     "start_time": "2023-12-01T18:08:41.742399400Z"
    }
   },
   "id": "b7c4f0319a29f6c6"
  },
  {
   "cell_type": "code",
   "execution_count": 11,
   "outputs": [
    {
     "data": {
      "text/plain": "         player_name team_abbreviation   college country draft_year  \\\ncount          12687             12687     10869   12687      12687   \nunique          2488                36       349      80         48   \ntop     Vince Carter               CLE  Kentucky     USA          0   \nfreq              22               446       439   10600       2277   \n\n       draft_round draft_number   season POSITION  \ncount        12687        12687    12687    12687  \nunique           9           75       27        3  \ntop              1    Undrafted  2021-22        G  \nfreq          7297         2332      597     5396  ",
      "text/html": "<div>\n<style scoped>\n    .dataframe tbody tr th:only-of-type {\n        vertical-align: middle;\n    }\n\n    .dataframe tbody tr th {\n        vertical-align: top;\n    }\n\n    .dataframe thead th {\n        text-align: right;\n    }\n</style>\n<table border=\"1\" class=\"dataframe\">\n  <thead>\n    <tr style=\"text-align: right;\">\n      <th></th>\n      <th>player_name</th>\n      <th>team_abbreviation</th>\n      <th>college</th>\n      <th>country</th>\n      <th>draft_year</th>\n      <th>draft_round</th>\n      <th>draft_number</th>\n      <th>season</th>\n      <th>POSITION</th>\n    </tr>\n  </thead>\n  <tbody>\n    <tr>\n      <th>count</th>\n      <td>12687</td>\n      <td>12687</td>\n      <td>10869</td>\n      <td>12687</td>\n      <td>12687</td>\n      <td>12687</td>\n      <td>12687</td>\n      <td>12687</td>\n      <td>12687</td>\n    </tr>\n    <tr>\n      <th>unique</th>\n      <td>2488</td>\n      <td>36</td>\n      <td>349</td>\n      <td>80</td>\n      <td>48</td>\n      <td>9</td>\n      <td>75</td>\n      <td>27</td>\n      <td>3</td>\n    </tr>\n    <tr>\n      <th>top</th>\n      <td>Vince Carter</td>\n      <td>CLE</td>\n      <td>Kentucky</td>\n      <td>USA</td>\n      <td>0</td>\n      <td>1</td>\n      <td>Undrafted</td>\n      <td>2021-22</td>\n      <td>G</td>\n    </tr>\n    <tr>\n      <th>freq</th>\n      <td>22</td>\n      <td>446</td>\n      <td>439</td>\n      <td>10600</td>\n      <td>2277</td>\n      <td>7297</td>\n      <td>2332</td>\n      <td>597</td>\n      <td>5396</td>\n    </tr>\n  </tbody>\n</table>\n</div>"
     },
     "execution_count": 11,
     "metadata": {},
     "output_type": "execute_result"
    }
   ],
   "source": [
    "categoricals = cleaned_data.select_dtypes(exclude=[np.number])\n",
    "categoricals.describe()"
   ],
   "metadata": {
    "collapsed": false,
    "ExecuteTime": {
     "end_time": "2023-12-01T18:08:41.804490700Z",
     "start_time": "2023-12-01T18:08:41.756860400Z"
    }
   },
   "id": "e685a0d62b99d42a"
  },
  {
   "cell_type": "code",
   "execution_count": 12,
   "outputs": [],
   "source": [
    "# Save the merged dataset to a new CSV file\n",
    "cleaned_data.to_csv('./OriginalDatasets/all_seasons_position.csv', index=False)"
   ],
   "metadata": {
    "collapsed": false,
    "ExecuteTime": {
     "end_time": "2023-12-01T18:08:42.023867300Z",
     "start_time": "2023-12-01T18:08:41.789801500Z"
    }
   },
   "id": "cfd00eb88e63e1a1"
  }
 ],
 "metadata": {
  "kernelspec": {
   "display_name": "Python 3",
   "language": "python",
   "name": "python3"
  },
  "language_info": {
   "codemirror_mode": {
    "name": "ipython",
    "version": 2
   },
   "file_extension": ".py",
   "mimetype": "text/x-python",
   "name": "python",
   "nbconvert_exporter": "python",
   "pygments_lexer": "ipython2",
   "version": "2.7.6"
  }
 },
 "nbformat": 4,
 "nbformat_minor": 5
}
