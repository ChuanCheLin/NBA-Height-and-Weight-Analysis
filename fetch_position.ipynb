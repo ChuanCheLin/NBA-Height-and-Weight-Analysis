{
 "cells": [
  {
   "cell_type": "code",
   "execution_count": 1,
   "id": "initial_id",
   "metadata": {
    "collapsed": true,
    "ExecuteTime": {
     "end_time": "2023-12-01T06:52:19.263415400Z",
     "start_time": "2023-12-01T06:52:18.429216600Z"
    }
   },
   "outputs": [
    {
     "name": "stdout",
     "output_type": "stream",
     "text": [
      "   PERSON_ID PLAYER_LAST_NAME PLAYER_FIRST_NAME POSITION\n",
      "0      76001        Abdelnaby              Alaa        F\n",
      "1      76002       Abdul-Aziz              Zaid        C\n",
      "2      76003     Abdul-Jabbar            Kareem        C\n",
      "3         51       Abdul-Rauf           Mahmoud        G\n",
      "4       1505      Abdul-Wahad             Tariq      F-G\n"
     ]
    }
   ],
   "source": [
    "from nba_api.stats.endpoints import PlayerIndex\n",
    "import pandas as pd\n",
    "\n",
    "# Initialize the PlayerIndex class to fetch data\n",
    "player_index = PlayerIndex(historical_nullable='1')\n",
    "\n",
    "# Extract the player index data\n",
    "player_data = player_index.player_index.get_data_frame()\n",
    "\n",
    "# Select only the necessary columns\n",
    "selected_columns = ['PERSON_ID', 'PLAYER_LAST_NAME', 'PLAYER_FIRST_NAME', 'POSITION']\n",
    "player_position_data = player_data[selected_columns]\n",
    "\n",
    "# Display the first few rows\n",
    "print(player_position_data.head())\n",
    "\n",
    "# Optionally, save this data to a CSV file\n",
    "player_position_data.to_csv(\"./OriginalDatasets/player_positions.csv\", index=False)"
   ]
  },
  {
   "cell_type": "code",
   "execution_count": 2,
   "outputs": [],
   "source": [
    "# Load the existing dataset\n",
    "existing_data = pd.read_csv('./ExsitingDatasets/all_seasons.csv')\n",
    "\n",
    "player_position_data = player_position_data.copy()\n",
    "\n",
    "# Concatenate the first and last names to match the 'player_name' format\n",
    "player_position_data['full_name'] = player_position_data['PLAYER_FIRST_NAME'] + ' ' + player_position_data['PLAYER_LAST_NAME']\n",
    "\n",
    "# Merge the datasets on the player names\n",
    "merged_data = pd.merge(existing_data, player_position_data[['full_name', 'POSITION']], \n",
    "                       left_on='player_name', right_on='full_name', how='left')\n",
    "\n",
    "# Drop the extra 'full_name' column after merge\n",
    "merged_data.drop('full_name', axis=1, inplace=True)\n",
    "\n",
    "# Check for any missing positions (if necessary)\n",
    "missing_positions = merged_data[merged_data['POSITION'].isnull()]"
   ],
   "metadata": {
    "collapsed": false,
    "ExecuteTime": {
     "end_time": "2023-12-01T06:52:19.337444700Z",
     "start_time": "2023-12-01T06:52:19.265420800Z"
    }
   },
   "id": "1b621cdfbb8989ac"
  },
  {
   "cell_type": "code",
   "execution_count": 3,
   "outputs": [
    {
     "data": {
      "text/plain": "   Unnamed: 0       player_name team_abbreviation   age  player_height  \\\n0           0  Randy Livingston               HOU  22.0         193.04   \n1           1  Gaylon Nickerson               WAS  28.0         190.50   \n2           2      George Lynch               VAN  26.0         203.20   \n3           3    George McCloud               LAL  30.0         203.20   \n4           4      George Zidek               DEN  23.0         213.36   \n\n   player_weight                college country draft_year draft_round  ...  \\\n0      94.800728        Louisiana State     USA       1996           2  ...   \n1      86.182480  Northwestern Oklahoma     USA       1994           2  ...   \n2     103.418976         North Carolina     USA       1993           1  ...   \n3     102.058200          Florida State     USA       1989           1  ...   \n4     119.748288                   UCLA     USA       1995           1  ...   \n\n   reb  ast  net_rating  oreb_pct  dreb_pct  usg_pct  ts_pct  ast_pct  \\\n0  1.5  2.4         0.3     0.042     0.071    0.169   0.487    0.248   \n1  1.3  0.3         8.9     0.030     0.111    0.174   0.497    0.043   \n2  6.4  1.9        -8.2     0.106     0.185    0.175   0.512    0.125   \n3  2.8  1.7        -2.7     0.027     0.111    0.206   0.527    0.125   \n4  1.7  0.3       -14.1     0.102     0.169    0.195   0.500    0.064   \n\n    season  POSITION  \n0  1996-97         G  \n1  1996-97         G  \n2  1996-97         F  \n3  1996-97         F  \n4  1996-97         C  \n\n[5 rows x 23 columns]",
      "text/html": "<div>\n<style scoped>\n    .dataframe tbody tr th:only-of-type {\n        vertical-align: middle;\n    }\n\n    .dataframe tbody tr th {\n        vertical-align: top;\n    }\n\n    .dataframe thead th {\n        text-align: right;\n    }\n</style>\n<table border=\"1\" class=\"dataframe\">\n  <thead>\n    <tr style=\"text-align: right;\">\n      <th></th>\n      <th>Unnamed: 0</th>\n      <th>player_name</th>\n      <th>team_abbreviation</th>\n      <th>age</th>\n      <th>player_height</th>\n      <th>player_weight</th>\n      <th>college</th>\n      <th>country</th>\n      <th>draft_year</th>\n      <th>draft_round</th>\n      <th>...</th>\n      <th>reb</th>\n      <th>ast</th>\n      <th>net_rating</th>\n      <th>oreb_pct</th>\n      <th>dreb_pct</th>\n      <th>usg_pct</th>\n      <th>ts_pct</th>\n      <th>ast_pct</th>\n      <th>season</th>\n      <th>POSITION</th>\n    </tr>\n  </thead>\n  <tbody>\n    <tr>\n      <th>0</th>\n      <td>0</td>\n      <td>Randy Livingston</td>\n      <td>HOU</td>\n      <td>22.0</td>\n      <td>193.04</td>\n      <td>94.800728</td>\n      <td>Louisiana State</td>\n      <td>USA</td>\n      <td>1996</td>\n      <td>2</td>\n      <td>...</td>\n      <td>1.5</td>\n      <td>2.4</td>\n      <td>0.3</td>\n      <td>0.042</td>\n      <td>0.071</td>\n      <td>0.169</td>\n      <td>0.487</td>\n      <td>0.248</td>\n      <td>1996-97</td>\n      <td>G</td>\n    </tr>\n    <tr>\n      <th>1</th>\n      <td>1</td>\n      <td>Gaylon Nickerson</td>\n      <td>WAS</td>\n      <td>28.0</td>\n      <td>190.50</td>\n      <td>86.182480</td>\n      <td>Northwestern Oklahoma</td>\n      <td>USA</td>\n      <td>1994</td>\n      <td>2</td>\n      <td>...</td>\n      <td>1.3</td>\n      <td>0.3</td>\n      <td>8.9</td>\n      <td>0.030</td>\n      <td>0.111</td>\n      <td>0.174</td>\n      <td>0.497</td>\n      <td>0.043</td>\n      <td>1996-97</td>\n      <td>G</td>\n    </tr>\n    <tr>\n      <th>2</th>\n      <td>2</td>\n      <td>George Lynch</td>\n      <td>VAN</td>\n      <td>26.0</td>\n      <td>203.20</td>\n      <td>103.418976</td>\n      <td>North Carolina</td>\n      <td>USA</td>\n      <td>1993</td>\n      <td>1</td>\n      <td>...</td>\n      <td>6.4</td>\n      <td>1.9</td>\n      <td>-8.2</td>\n      <td>0.106</td>\n      <td>0.185</td>\n      <td>0.175</td>\n      <td>0.512</td>\n      <td>0.125</td>\n      <td>1996-97</td>\n      <td>F</td>\n    </tr>\n    <tr>\n      <th>3</th>\n      <td>3</td>\n      <td>George McCloud</td>\n      <td>LAL</td>\n      <td>30.0</td>\n      <td>203.20</td>\n      <td>102.058200</td>\n      <td>Florida State</td>\n      <td>USA</td>\n      <td>1989</td>\n      <td>1</td>\n      <td>...</td>\n      <td>2.8</td>\n      <td>1.7</td>\n      <td>-2.7</td>\n      <td>0.027</td>\n      <td>0.111</td>\n      <td>0.206</td>\n      <td>0.527</td>\n      <td>0.125</td>\n      <td>1996-97</td>\n      <td>F</td>\n    </tr>\n    <tr>\n      <th>4</th>\n      <td>4</td>\n      <td>George Zidek</td>\n      <td>DEN</td>\n      <td>23.0</td>\n      <td>213.36</td>\n      <td>119.748288</td>\n      <td>UCLA</td>\n      <td>USA</td>\n      <td>1995</td>\n      <td>1</td>\n      <td>...</td>\n      <td>1.7</td>\n      <td>0.3</td>\n      <td>-14.1</td>\n      <td>0.102</td>\n      <td>0.169</td>\n      <td>0.195</td>\n      <td>0.500</td>\n      <td>0.064</td>\n      <td>1996-97</td>\n      <td>C</td>\n    </tr>\n  </tbody>\n</table>\n<p>5 rows × 23 columns</p>\n</div>"
     },
     "execution_count": 3,
     "metadata": {},
     "output_type": "execute_result"
    }
   ],
   "source": [
    "merged_data.head()"
   ],
   "metadata": {
    "collapsed": false,
    "ExecuteTime": {
     "end_time": "2023-12-01T06:52:19.367603600Z",
     "start_time": "2023-12-01T06:52:19.339579100Z"
    }
   },
   "id": "87800165c5cf9791"
  },
  {
   "cell_type": "code",
   "execution_count": 4,
   "outputs": [],
   "source": [
    "# Save the merged dataset to a new CSV file\n",
    "merged_data.to_csv('./OriginalDatasets/all_seasons_position.csv', index=False)"
   ],
   "metadata": {
    "collapsed": false,
    "ExecuteTime": {
     "end_time": "2023-12-01T06:52:19.523962Z",
     "start_time": "2023-12-01T06:52:19.364757200Z"
    }
   },
   "id": "b60af7c8b0947ec9"
  }
 ],
 "metadata": {
  "kernelspec": {
   "display_name": "Python 3",
   "language": "python",
   "name": "python3"
  },
  "language_info": {
   "codemirror_mode": {
    "name": "ipython",
    "version": 2
   },
   "file_extension": ".py",
   "mimetype": "text/x-python",
   "name": "python",
   "nbconvert_exporter": "python",
   "pygments_lexer": "ipython2",
   "version": "2.7.6"
  }
 },
 "nbformat": 4,
 "nbformat_minor": 5
}
